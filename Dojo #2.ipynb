{
 "cells": [
  {
   "cell_type": "code",
   "execution_count": 1,
   "metadata": {
    "collapsed": true
   },
   "outputs": [],
   "source": [
    "import pandas as pd\n",
    "import numpy as np"
   ]
  },
  {
   "cell_type": "code",
   "execution_count": 2,
   "metadata": {},
   "outputs": [
    {
     "data": {
      "text/plain": [
       "array([[ 0.,  0.,  0.,  0.,  0.,  0.],\n",
       "       [ 0.,  0.,  0.,  0.,  0.,  0.],\n",
       "       [ 0.,  0.,  0.,  0.,  0.,  0.],\n",
       "       [ 0.,  0.,  0.,  0.,  0.,  0.],\n",
       "       [ 0.,  0.,  0.,  0.,  0.,  0.],\n",
       "       [ 0.,  0.,  0.,  0.,  0.,  0.],\n",
       "       [ 0.,  0.,  0.,  0.,  0.,  0.]])"
      ]
     },
     "execution_count": 2,
     "metadata": {},
     "output_type": "execute_result"
    }
   ],
   "source": [
    "matriz_teste = np.zeros(shape=[7,6])\n",
    "matriz_teste"
   ]
  },
  {
   "cell_type": "code",
   "execution_count": 3,
   "metadata": {},
   "outputs": [],
   "source": [
    "linhas = [0]*matriz_teste.shape[0]\n",
    "colunas = [0]*matriz_teste.shape[1]\n",
    "\n",
    "count = 0\n",
    "for i in range(matriz_teste.shape[0]):\n",
    "    linhas[i] = count\n",
    "    count = count + 1\n",
    "\n",
    "count = 0\n",
    "for i in range(matriz_teste.shape[1]):\n",
    "    colunas[i] = count\n",
    "    count = count + 1"
   ]
  },
  {
   "cell_type": "code",
   "execution_count": 4,
   "metadata": {},
   "outputs": [],
   "source": [
    "count = 1\n",
    "linhas = linhas[::-1]\n",
    "while ((len(linhas) > 0) & (len(colunas) > 0)):\n",
    "    i = linhas[len(linhas) -1]\n",
    "    for j in colunas:\n",
    "        matriz_teste[i,j] = count\n",
    "        count = count + 1\n",
    "    \n",
    "    linhas = linhas[::-1]\n",
    "    del linhas[0]\n",
    "    \n",
    "    if (len(linhas) > 0):\n",
    "        j = colunas[len(colunas) -1]\n",
    "        for i in linhas:\n",
    "            matriz_teste[i,j] = count\n",
    "            count = count + 1    \n",
    "    \n",
    "        colunas = colunas[::-1]\n",
    "        del colunas[0]"
   ]
  },
  {
   "cell_type": "code",
   "execution_count": 5,
   "metadata": {},
   "outputs": [
    {
     "data": {
      "text/plain": [
       "array([[  1.,   2.,   3.,   4.,   5.,   6.],\n",
       "       [ 22.,  23.,  24.,  25.,  26.,   7.],\n",
       "       [ 21.,  36.,  37.,  38.,  27.,   8.],\n",
       "       [ 20.,  35.,  42.,  39.,  28.,   9.],\n",
       "       [ 19.,  34.,  41.,  40.,  29.,  10.],\n",
       "       [ 18.,  33.,  32.,  31.,  30.,  11.],\n",
       "       [ 17.,  16.,  15.,  14.,  13.,  12.]])"
      ]
     },
     "execution_count": 5,
     "metadata": {},
     "output_type": "execute_result"
    }
   ],
   "source": [
    "matriz_teste"
   ]
  }
 ],
 "metadata": {
  "kernelspec": {
   "display_name": "Python 3",
   "language": "python",
   "name": "python3"
  },
  "language_info": {
   "codemirror_mode": {
    "name": "ipython",
    "version": 3
   },
   "file_extension": ".py",
   "mimetype": "text/x-python",
   "name": "python",
   "nbconvert_exporter": "python",
   "pygments_lexer": "ipython3",
   "version": "3.6.3"
  }
 },
 "nbformat": 4,
 "nbformat_minor": 2
}
